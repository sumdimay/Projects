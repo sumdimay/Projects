{
 "cells": [
  {
   "cell_type": "markdown",
   "id": "afc46404",
   "metadata": {},
   "source": [
    "# Capturing Image and saving it into the active directory "
   ]
  },
  {
   "cell_type": "code",
   "execution_count": 1,
   "id": "db13c14a",
   "metadata": {},
   "outputs": [],
   "source": [
    "#pip install pydotplus"
   ]
  },
  {
   "cell_type": "code",
   "execution_count": 3,
   "id": "85776cf9",
   "metadata": {},
   "outputs": [
    {
     "name": "stdout",
     "output_type": "stream",
     "text": [
      "Escape hit, closing...\n"
     ]
    }
   ],
   "source": [
    "import datetime\n",
    "#from datetime import datetime\n",
    "import cv2\n",
    "\n",
    "cam = cv2.VideoCapture(0)\n",
    "\n",
    "cv2.namedWindow(\"test\")\n",
    "\n",
    "\n",
    "img_counter = 0\n",
    "\n",
    "while True:\n",
    "    ret, frame = cam.read()\n",
    "    # Put current DateTime on each frame\n",
    "    '''font = cv2.FONT_HERSHEY_SIMPLEX\n",
    "    cv2.putText(frame,str(datetime.now()),(10,30), font, 1,(255,255,255),2,cv2.LINE_AA)'''\n",
    "    if not ret:\n",
    "        print(\"failed to grab frame\")\n",
    "        break\n",
    "    cv2.imshow(\"test\", frame)\n",
    "\n",
    "    k = cv2.waitKey(1)\n",
    "    if k%256 == 27:\n",
    "        # ESC pressed\n",
    "        print(\"Escape hit, closing...\")\n",
    "        break\n",
    "    elif k%256 == 32:\n",
    "        # SPACE pressed\n",
    "        img_name = \"opencv_frame_{}.png\".format(img_counter)\n",
    "        cv2.imwrite(img_name, frame)\n",
    "        print(\"{} written!\".format(img_name))\n",
    "        img_counter += 1\n",
    "\n",
    "cam.release()\n",
    "\n",
    "cv2.destroyAllWindows()"
   ]
  },
  {
   "cell_type": "markdown",
   "id": "269b107b",
   "metadata": {},
   "source": [
    "# Reading the captured image and using searching for the red patch using masking"
   ]
  },
  {
   "cell_type": "markdown",
   "id": "4999e2b8",
   "metadata": {},
   "source": [
    "# Image to text - Tesseract | Pillow"
   ]
  },
  {
   "cell_type": "code",
   "execution_count": 3,
   "id": "a61979c9",
   "metadata": {},
   "outputs": [],
   "source": [
    "#!pip install pillow"
   ]
  },
  {
   "cell_type": "code",
   "execution_count": 4,
   "id": "37420377",
   "metadata": {},
   "outputs": [],
   "source": [
    "#!pip install pytesseract"
   ]
  },
  {
   "cell_type": "code",
   "execution_count": 5,
   "id": "37e8b0b2",
   "metadata": {},
   "outputs": [],
   "source": [
    "#!pip install tesseract"
   ]
  },
  {
   "cell_type": "code",
   "execution_count": 6,
   "id": "34d10ba2",
   "metadata": {},
   "outputs": [],
   "source": [
    "#!pip install tesseract-ocr"
   ]
  },
  {
   "cell_type": "code",
   "execution_count": 7,
   "id": "eafc15dc",
   "metadata": {},
   "outputs": [],
   "source": [
    "from PIL import Image #image processing"
   ]
  },
  {
   "cell_type": "code",
   "execution_count": 8,
   "id": "2a52e67e",
   "metadata": {},
   "outputs": [],
   "source": [
    "import pytesseract #convert image to text"
   ]
  },
  {
   "cell_type": "code",
   "execution_count": 9,
   "id": "5d75ad40",
   "metadata": {},
   "outputs": [
    {
     "data": {
      "text/plain": [
       "'C:\\\\Users\\\\ppara\\\\Downloads'"
      ]
     },
     "execution_count": 9,
     "metadata": {},
     "output_type": "execute_result"
    }
   ],
   "source": [
    "pwd # for image"
   ]
  },
  {
   "cell_type": "code",
   "execution_count": 10,
   "id": "305a568d",
   "metadata": {},
   "outputs": [],
   "source": [
    "img = Image.open(\"C:/Users/ppara/Downloads/AIML Cargo pics/4.jpg\") # image path"
   ]
  },
  {
   "cell_type": "code",
   "execution_count": 11,
   "id": "63e175f8",
   "metadata": {},
   "outputs": [],
   "source": [
    "pytesseract.pytesseract.tesseract_cmd = r'C:\\Program Files\\Tesseract-OCR\\tesseract'"
   ]
  },
  {
   "cell_type": "code",
   "execution_count": 12,
   "id": "bd57f997",
   "metadata": {},
   "outputs": [],
   "source": [
    "result = pytesseract.image_to_string(img, lang = 'eng') #image to result and saves it"
   ]
  },
  {
   "cell_type": "code",
   "execution_count": 13,
   "id": "ecc5ee00",
   "metadata": {},
   "outputs": [
    {
     "name": "stdout",
     "output_type": "stream",
     "text": [
      "Raw text from image is:  UACU 518232 [f\n",
      "ASG >\n",
      "\n"
     ]
    }
   ],
   "source": [
    "print('Raw text from image is: ',result)"
   ]
  },
  {
   "cell_type": "markdown",
   "id": "8838c524",
   "metadata": {},
   "source": [
    "# Cleaning retrived text"
   ]
  },
  {
   "cell_type": "code",
   "execution_count": 14,
   "id": "2ea7cdf6",
   "metadata": {},
   "outputs": [],
   "source": [
    "import re"
   ]
  },
  {
   "cell_type": "code",
   "execution_count": 15,
   "id": "2bb4a962",
   "metadata": {},
   "outputs": [],
   "source": [
    "r1 = re.findall(r\"^\\D+\",result)\n",
    "r2 = re.findall(r\"\\d+\",result)\n",
    "r3 = re.findall(r\"\\S+\",result)\n",
    "#r4 = re.findall(r\"[a-zA-Z0-9]\\S+[a-zA-Z0-9]\",result)\n",
    "r4 = re.findall(r\"\\S[a-zA-Z0-9]\\w*\",result)"
   ]
  },
  {
   "cell_type": "code",
   "execution_count": 16,
   "id": "464f83ba",
   "metadata": {},
   "outputs": [
    {
     "name": "stdout",
     "output_type": "stream",
     "text": [
      "R1:  ['UACU ']\n",
      "R2:  ['518232']\n",
      "R3:  ['UACU', '518232', '[f', 'ASG', '>']\n",
      "R4:  ['UACU', '518232', '[f', 'ASG']\n"
     ]
    }
   ],
   "source": [
    "print('R1: ',r1)\n",
    "print('R2: ',r2)\n",
    "print('R3: ',r3)\n",
    "print('R4: ',r4)"
   ]
  },
  {
   "cell_type": "code",
   "execution_count": 17,
   "id": "0baa0eb0",
   "metadata": {},
   "outputs": [
    {
     "name": "stdout",
     "output_type": "stream",
     "text": [
      "Container Id:  UACU518232\n"
     ]
    }
   ],
   "source": [
    "list_join=\"\"\n",
    "for i in r4[:2]:\n",
    "    list_join += str(i) + \"-\"\n",
    "    list_join = list_join[:-1]\n",
    "print('Container Id: ',list_join)"
   ]
  },
  {
   "cell_type": "markdown",
   "id": "a51bf0f7",
   "metadata": {},
   "source": [
    "# RED PATTERN for damage detection - Yes/No"
   ]
  },
  {
   "cell_type": "code",
   "execution_count": 18,
   "id": "a4a09c02",
   "metadata": {},
   "outputs": [],
   "source": [
    "#!pip install cv2\n",
    "#!pip install --upgrade pip\n",
    "#!pip3 install opencv-python"
   ]
  },
  {
   "cell_type": "code",
   "execution_count": 19,
   "id": "294912ff",
   "metadata": {},
   "outputs": [],
   "source": [
    "import cv2\n",
    "import numpy as np\n",
    "img = cv2.imread(\"C:/Users/ppara/Downloads/AIML Cargo pics/4.jpg\")\n",
    "img_hsv = cv2.cvtColor(img, cv2.COLOR_BGR2HSV)\n",
    "mask1 = cv2.inRange(img_hsv, (0, 70, 50), (10, 255, 255))\n",
    "mask2 = cv2.inRange(img_hsv, (170, 70, 50), (180, 255, 255))\n",
    "mask = cv2.bitwise_or(mask1, mask2 )\n",
    "croped = cv2.bitwise_and(img, img, mask=mask)\n",
    "cv2.imshow(\"mask\", mask)\n",
    "cv2.imshow(\"croped\", croped)\n",
    "cv2.waitKey(1)\n",
    "cv2.destroyAllWindows()\n"
   ]
  },
  {
   "cell_type": "code",
   "execution_count": 20,
   "id": "d5d40589",
   "metadata": {},
   "outputs": [],
   "source": [
    "if (mask == 1).sum() > 1:\n",
    "    print(\"Nothing\")\n",
    "    # do your stuff"
   ]
  },
  {
   "cell_type": "code",
   "execution_count": 21,
   "id": "3ab6faf1",
   "metadata": {},
   "outputs": [
    {
     "name": "stdout",
     "output_type": "stream",
     "text": [
      "Red is present!\n"
     ]
    }
   ],
   "source": [
    "# Binary mask with pixels matching the color threshold in white\n",
    "mask = cv2.bitwise_or(mask1, mask2)\n",
    "dmgflag = 'No'\n",
    "# Determine if the color exists on the image\n",
    "if cv2.countNonZero(mask) > 0:\n",
    "    print('Red is present!')\n",
    "    dmgflag='1'\n",
    "else:\n",
    "    print('Red is not present!')"
   ]
  },
  {
   "cell_type": "markdown",
   "id": "7c32482a",
   "metadata": {},
   "source": [
    "# Importing required packages and libraries\n",
    "# Reading Dataset"
   ]
  },
  {
   "cell_type": "code",
   "execution_count": 22,
   "id": "69471045",
   "metadata": {},
   "outputs": [],
   "source": [
    "import pandas as pd \n",
    "import matplotlib.pyplot as plt\n",
    "import seaborn as sns \n",
    "import numpy as np\n",
    "import itertools "
   ]
  },
  {
   "cell_type": "code",
   "execution_count": 23,
   "id": "c4a05270",
   "metadata": {},
   "outputs": [],
   "source": [
    "df = pd.read_csv(\"C:/Users/ppara/Desktop/AML_lab_dataset.csv\",index_col='index')"
   ]
  },
  {
   "cell_type": "code",
   "execution_count": 24,
   "id": "edef8cb6",
   "metadata": {},
   "outputs": [],
   "source": [
    "df.columns = ['container id', 'date', 'city', 'Temperature',\n",
    "       'Mode of Transport', 'Fork Type', 'External', 'Refrigerated',\n",
    "       'Damage']"
   ]
  },
  {
   "cell_type": "code",
   "execution_count": 25,
   "id": "6895a99e",
   "metadata": {},
   "outputs": [
    {
     "data": {
      "text/html": [
       "<div>\n",
       "<style scoped>\n",
       "    .dataframe tbody tr th:only-of-type {\n",
       "        vertical-align: middle;\n",
       "    }\n",
       "\n",
       "    .dataframe tbody tr th {\n",
       "        vertical-align: top;\n",
       "    }\n",
       "\n",
       "    .dataframe thead th {\n",
       "        text-align: right;\n",
       "    }\n",
       "</style>\n",
       "<table border=\"1\" class=\"dataframe\">\n",
       "  <thead>\n",
       "    <tr style=\"text-align: right;\">\n",
       "      <th></th>\n",
       "      <th>container id</th>\n",
       "      <th>date</th>\n",
       "      <th>city</th>\n",
       "      <th>Temperature</th>\n",
       "      <th>Mode of Transport</th>\n",
       "      <th>Fork Type</th>\n",
       "      <th>External</th>\n",
       "      <th>Refrigerated</th>\n",
       "      <th>Damage</th>\n",
       "    </tr>\n",
       "    <tr>\n",
       "      <th>index</th>\n",
       "      <th></th>\n",
       "      <th></th>\n",
       "      <th></th>\n",
       "      <th></th>\n",
       "      <th></th>\n",
       "      <th></th>\n",
       "      <th></th>\n",
       "      <th></th>\n",
       "      <th></th>\n",
       "    </tr>\n",
       "  </thead>\n",
       "  <tbody>\n",
       "    <tr>\n",
       "      <th>1</th>\n",
       "      <td>VPYR190662</td>\n",
       "      <td>23-09-2010</td>\n",
       "      <td>Purnea</td>\n",
       "      <td>30</td>\n",
       "      <td>land</td>\n",
       "      <td>Industrial Forklift</td>\n",
       "      <td>No</td>\n",
       "      <td>No</td>\n",
       "      <td>No</td>\n",
       "    </tr>\n",
       "    <tr>\n",
       "      <th>2</th>\n",
       "      <td>OAKF997890</td>\n",
       "      <td>15-10-2015</td>\n",
       "      <td>Joliet</td>\n",
       "      <td>12</td>\n",
       "      <td>land</td>\n",
       "      <td>Walkie Stacker</td>\n",
       "      <td>Yes</td>\n",
       "      <td>No</td>\n",
       "      <td>Yes</td>\n",
       "    </tr>\n",
       "    <tr>\n",
       "      <th>3</th>\n",
       "      <td>TAUV405783</td>\n",
       "      <td>11-10-2008</td>\n",
       "      <td>Taber</td>\n",
       "      <td>37</td>\n",
       "      <td>air</td>\n",
       "      <td>Pallet Jack</td>\n",
       "      <td>Yes</td>\n",
       "      <td>Yes</td>\n",
       "      <td>Yes</td>\n",
       "    </tr>\n",
       "    <tr>\n",
       "      <th>4</th>\n",
       "      <td>FNBW586962</td>\n",
       "      <td>18-09-2022</td>\n",
       "      <td>Shimla</td>\n",
       "      <td>5</td>\n",
       "      <td>land</td>\n",
       "      <td>Pallet Jack</td>\n",
       "      <td>No</td>\n",
       "      <td>No</td>\n",
       "      <td>Yes</td>\n",
       "    </tr>\n",
       "    <tr>\n",
       "      <th>5</th>\n",
       "      <td>CWGP237272</td>\n",
       "      <td>06-11-2018</td>\n",
       "      <td>Miami</td>\n",
       "      <td>38</td>\n",
       "      <td>air</td>\n",
       "      <td>Rough Terrain Forklift</td>\n",
       "      <td>Yes</td>\n",
       "      <td>No</td>\n",
       "      <td>Yes</td>\n",
       "    </tr>\n",
       "    <tr>\n",
       "      <th>...</th>\n",
       "      <td>...</td>\n",
       "      <td>...</td>\n",
       "      <td>...</td>\n",
       "      <td>...</td>\n",
       "      <td>...</td>\n",
       "      <td>...</td>\n",
       "      <td>...</td>\n",
       "      <td>...</td>\n",
       "      <td>...</td>\n",
       "    </tr>\n",
       "    <tr>\n",
       "      <th>19996</th>\n",
       "      <td>PJGY222556</td>\n",
       "      <td>09-03-2008</td>\n",
       "      <td>Silchar</td>\n",
       "      <td>28</td>\n",
       "      <td>land</td>\n",
       "      <td>Telehandler</td>\n",
       "      <td>Yes</td>\n",
       "      <td>No</td>\n",
       "      <td>Yes</td>\n",
       "    </tr>\n",
       "    <tr>\n",
       "      <th>19997</th>\n",
       "      <td>AJOE772324</td>\n",
       "      <td>07-01-2009</td>\n",
       "      <td>Trivandrum</td>\n",
       "      <td>25</td>\n",
       "      <td>land</td>\n",
       "      <td>Walkie Stacker</td>\n",
       "      <td>Yes</td>\n",
       "      <td>Yes</td>\n",
       "      <td>Yes</td>\n",
       "    </tr>\n",
       "    <tr>\n",
       "      <th>19998</th>\n",
       "      <td>XJEK284268</td>\n",
       "      <td>22-02-2017</td>\n",
       "      <td>Gary</td>\n",
       "      <td>39</td>\n",
       "      <td>water</td>\n",
       "      <td>Telehandler</td>\n",
       "      <td>Yes</td>\n",
       "      <td>Yes</td>\n",
       "      <td>Yes</td>\n",
       "    </tr>\n",
       "    <tr>\n",
       "      <th>19999</th>\n",
       "      <td>UMYR952437</td>\n",
       "      <td>18-03-2016</td>\n",
       "      <td>Haridwar</td>\n",
       "      <td>45</td>\n",
       "      <td>air</td>\n",
       "      <td>Rough Terrain Forklift</td>\n",
       "      <td>Yes</td>\n",
       "      <td>No</td>\n",
       "      <td>No</td>\n",
       "    </tr>\n",
       "    <tr>\n",
       "      <th>20000</th>\n",
       "      <td>DIBM828271</td>\n",
       "      <td>23-05-2017</td>\n",
       "      <td>Provo</td>\n",
       "      <td>44</td>\n",
       "      <td>land</td>\n",
       "      <td>Counterbalance Forklift</td>\n",
       "      <td>Yes</td>\n",
       "      <td>No</td>\n",
       "      <td>Yes</td>\n",
       "    </tr>\n",
       "  </tbody>\n",
       "</table>\n",
       "<p>20000 rows × 9 columns</p>\n",
       "</div>"
      ],
      "text/plain": [
       "      container id        date        city  Temperature Mode of Transport  \\\n",
       "index                                                                       \n",
       "1       VPYR190662  23-09-2010      Purnea           30              land   \n",
       "2       OAKF997890  15-10-2015      Joliet           12              land   \n",
       "3       TAUV405783  11-10-2008       Taber           37               air   \n",
       "4       FNBW586962  18-09-2022      Shimla            5              land   \n",
       "5       CWGP237272  06-11-2018       Miami           38               air   \n",
       "...            ...         ...         ...          ...               ...   \n",
       "19996   PJGY222556  09-03-2008     Silchar           28              land   \n",
       "19997   AJOE772324  07-01-2009  Trivandrum           25              land   \n",
       "19998   XJEK284268  22-02-2017        Gary           39             water   \n",
       "19999   UMYR952437  18-03-2016    Haridwar           45               air   \n",
       "20000   DIBM828271  23-05-2017       Provo           44              land   \n",
       "\n",
       "                     Fork Type External Refrigerated Damage  \n",
       "index                                                        \n",
       "1          Industrial Forklift       No           No     No  \n",
       "2               Walkie Stacker      Yes           No    Yes  \n",
       "3                  Pallet Jack      Yes          Yes    Yes  \n",
       "4                  Pallet Jack       No           No    Yes  \n",
       "5       Rough Terrain Forklift      Yes           No    Yes  \n",
       "...                        ...      ...          ...    ...  \n",
       "19996              Telehandler      Yes           No    Yes  \n",
       "19997           Walkie Stacker      Yes          Yes    Yes  \n",
       "19998              Telehandler      Yes          Yes    Yes  \n",
       "19999   Rough Terrain Forklift      Yes           No     No  \n",
       "20000  Counterbalance Forklift      Yes           No    Yes  \n",
       "\n",
       "[20000 rows x 9 columns]"
      ]
     },
     "execution_count": 25,
     "metadata": {},
     "output_type": "execute_result"
    }
   ],
   "source": [
    "df"
   ]
  },
  {
   "cell_type": "code",
   "execution_count": 26,
   "id": "1dea31e5",
   "metadata": {},
   "outputs": [],
   "source": [
    "for i in range(0,len(df)):\n",
    "  if df.iloc[i,3] <=10 and df.iloc[i,5]=='Pallet Jack':\n",
    "    df.iloc[i,8]=1\n",
    "  else:\n",
    "    df.iloc[i,8]=0"
   ]
  },
  {
   "cell_type": "code",
   "execution_count": 27,
   "id": "23b16946",
   "metadata": {},
   "outputs": [],
   "source": [
    "for i in range(0,len(df)):\n",
    "  if df.iloc[i,3]>=40:\n",
    "    df.iloc[i,8]=1\n",
    "  else:\n",
    "    df.iloc[i,8]=0"
   ]
  },
  {
   "cell_type": "code",
   "execution_count": 28,
   "id": "af61783c",
   "metadata": {},
   "outputs": [],
   "source": [
    "for i in range(0,len(df)):\n",
    "  if df.iloc[i,7]=='No' and df.iloc[i,3]>34:\n",
    "    df.iloc[i,8]=1\n",
    "  else:\n",
    "    df.iloc[i,8]=0"
   ]
  },
  {
   "cell_type": "code",
   "execution_count": 29,
   "id": "79582ab0",
   "metadata": {},
   "outputs": [
    {
     "data": {
      "text/html": [
       "<div>\n",
       "<style scoped>\n",
       "    .dataframe tbody tr th:only-of-type {\n",
       "        vertical-align: middle;\n",
       "    }\n",
       "\n",
       "    .dataframe tbody tr th {\n",
       "        vertical-align: top;\n",
       "    }\n",
       "\n",
       "    .dataframe thead th {\n",
       "        text-align: right;\n",
       "    }\n",
       "</style>\n",
       "<table border=\"1\" class=\"dataframe\">\n",
       "  <thead>\n",
       "    <tr style=\"text-align: right;\">\n",
       "      <th></th>\n",
       "      <th>container id</th>\n",
       "      <th>date</th>\n",
       "      <th>city</th>\n",
       "      <th>Temperature</th>\n",
       "      <th>Mode of Transport</th>\n",
       "      <th>Fork Type</th>\n",
       "      <th>External</th>\n",
       "      <th>Refrigerated</th>\n",
       "      <th>Damage</th>\n",
       "    </tr>\n",
       "    <tr>\n",
       "      <th>index</th>\n",
       "      <th></th>\n",
       "      <th></th>\n",
       "      <th></th>\n",
       "      <th></th>\n",
       "      <th></th>\n",
       "      <th></th>\n",
       "      <th></th>\n",
       "      <th></th>\n",
       "      <th></th>\n",
       "    </tr>\n",
       "  </thead>\n",
       "  <tbody>\n",
       "    <tr>\n",
       "      <th>19996</th>\n",
       "      <td>PJGY222556</td>\n",
       "      <td>09-03-2008</td>\n",
       "      <td>Silchar</td>\n",
       "      <td>28</td>\n",
       "      <td>land</td>\n",
       "      <td>Telehandler</td>\n",
       "      <td>Yes</td>\n",
       "      <td>No</td>\n",
       "      <td>0</td>\n",
       "    </tr>\n",
       "    <tr>\n",
       "      <th>19997</th>\n",
       "      <td>AJOE772324</td>\n",
       "      <td>07-01-2009</td>\n",
       "      <td>Trivandrum</td>\n",
       "      <td>25</td>\n",
       "      <td>land</td>\n",
       "      <td>Walkie Stacker</td>\n",
       "      <td>Yes</td>\n",
       "      <td>Yes</td>\n",
       "      <td>0</td>\n",
       "    </tr>\n",
       "    <tr>\n",
       "      <th>19998</th>\n",
       "      <td>XJEK284268</td>\n",
       "      <td>22-02-2017</td>\n",
       "      <td>Gary</td>\n",
       "      <td>39</td>\n",
       "      <td>water</td>\n",
       "      <td>Telehandler</td>\n",
       "      <td>Yes</td>\n",
       "      <td>Yes</td>\n",
       "      <td>0</td>\n",
       "    </tr>\n",
       "    <tr>\n",
       "      <th>19999</th>\n",
       "      <td>UMYR952437</td>\n",
       "      <td>18-03-2016</td>\n",
       "      <td>Haridwar</td>\n",
       "      <td>45</td>\n",
       "      <td>air</td>\n",
       "      <td>Rough Terrain Forklift</td>\n",
       "      <td>Yes</td>\n",
       "      <td>No</td>\n",
       "      <td>1</td>\n",
       "    </tr>\n",
       "    <tr>\n",
       "      <th>20000</th>\n",
       "      <td>DIBM828271</td>\n",
       "      <td>23-05-2017</td>\n",
       "      <td>Provo</td>\n",
       "      <td>44</td>\n",
       "      <td>land</td>\n",
       "      <td>Counterbalance Forklift</td>\n",
       "      <td>Yes</td>\n",
       "      <td>No</td>\n",
       "      <td>1</td>\n",
       "    </tr>\n",
       "  </tbody>\n",
       "</table>\n",
       "</div>"
      ],
      "text/plain": [
       "      container id        date        city  Temperature Mode of Transport  \\\n",
       "index                                                                       \n",
       "19996   PJGY222556  09-03-2008     Silchar           28              land   \n",
       "19997   AJOE772324  07-01-2009  Trivandrum           25              land   \n",
       "19998   XJEK284268  22-02-2017        Gary           39             water   \n",
       "19999   UMYR952437  18-03-2016    Haridwar           45               air   \n",
       "20000   DIBM828271  23-05-2017       Provo           44              land   \n",
       "\n",
       "                     Fork Type External Refrigerated Damage  \n",
       "index                                                        \n",
       "19996              Telehandler      Yes           No      0  \n",
       "19997           Walkie Stacker      Yes          Yes      0  \n",
       "19998              Telehandler      Yes          Yes      0  \n",
       "19999   Rough Terrain Forklift      Yes           No      1  \n",
       "20000  Counterbalance Forklift      Yes           No      1  "
      ]
     },
     "execution_count": 29,
     "metadata": {},
     "output_type": "execute_result"
    }
   ],
   "source": [
    "df.tail()"
   ]
  },
  {
   "cell_type": "markdown",
   "id": "033fa817",
   "metadata": {},
   "source": [
    "# Appending the retrieved container data with other necessary details\n",
    "# Retrieving Weather Info using API"
   ]
  },
  {
   "cell_type": "code",
   "execution_count": 30,
   "id": "3130b463",
   "metadata": {},
   "outputs": [
    {
     "name": "stdout",
     "output_type": "stream",
     "text": [
      "Container Id was succesully Detected, Please provide details related to the shipment.\n"
     ]
    },
    {
     "name": "stdin",
     "output_type": "stream",
     "text": [
      " City? :  New Delhi\n"
     ]
    },
    {
     "name": "stdout",
     "output_type": "stream",
     "text": [
      "Temperature in New Delhi city is 12.090000000000032 Celcius. \n"
     ]
    },
    {
     "name": "stdin",
     "output_type": "stream",
     "text": [
      "Mode of Transport? 1 for Land/ 2 for Air/ 3 for Water):  2\n",
      "Forklift used?:  Pallet Jack\n",
      "External (Yes/No):  Yes\n",
      "Is the Cargo Container Refrigerated? (Yes / No):  No\n"
     ]
    }
   ],
   "source": [
    "print(\"Container Id was succesully Detected, Please provide details related to the shipment.\")\n",
    "ab=input(\" City? : \")\n",
    "\n",
    "\n",
    "\n",
    "import requests, json\n",
    " \n",
    "# Enter your API key here\n",
    "api_key = \"ad13ba9b4f101bb1966600a9f90a1b43\"\n",
    " \n",
    "# base_url variable to store url\n",
    "base_url = \"http://api.openweathermap.org/data/2.5/weather?\"\n",
    " \n",
    "# Give city name\n",
    "city_name = ab\n",
    " \n",
    "# complete_url variable to store\n",
    "# complete url address\n",
    "complete_url = base_url + \"appid=\" + api_key + \"&q=\" + city_name\n",
    " \n",
    "# get method of requests module\n",
    "# return response object\n",
    "response = requests.get(complete_url)\n",
    " \n",
    "# json method of response object\n",
    "# convert json format data into\n",
    "# python format data\n",
    "x = response.json()\n",
    " \n",
    "# Now x contains list of nested dictionaries\n",
    "# Check the value of \"cod\" key is equal to\n",
    "# \"404\", means city is found otherwise,\n",
    "# city is not found\n",
    "if x[\"cod\"] != \"404\":\n",
    " \n",
    "    # store the value of \"main\"\n",
    "    # key in variable y\n",
    "    y = x[\"main\"]\n",
    " \n",
    "    # store the value corresponding\n",
    "    # to the \"temp\" key of y\n",
    "    current_temperature = y[\"temp\"]\n",
    " \n",
    "    # store the value corresponding\n",
    "    # to the \"pressure\" key of y\n",
    "    current_pressure = y[\"pressure\"]\n",
    " \n",
    "    # store the value corresponding\n",
    "    # to the \"humidity\" key of y\n",
    "    current_humidity = y[\"humidity\"]\n",
    " \n",
    "    # store the value of \"weather\"\n",
    "    # key in variable z\n",
    "    z = x[\"weather\"]\n",
    " \n",
    "    # store the value corresponding\n",
    "    # to the \"description\" key at\n",
    "    # the 0th index of z\n",
    "    weather_description = z[0][\"description\"]\n",
    "    current_temperature=current_temperature-273.15\n",
    "\n",
    "else:\n",
    "    print(\" City Not Found \")\n",
    "\n",
    "\n",
    "\n",
    "print(\"Temperature in \"+str(ab)+\" city is \"+str(current_temperature)+\" Celcius. \")\n",
    "bc=current_temperature\n",
    "cd=input(\"Mode of Transport? 1 for Land/ 2 for Air/ 3 for Water): \")\n",
    "if cd=='1':\n",
    "  cd=\"land\"\n",
    "elif cd=='2':\n",
    "  cd=\"air\"\n",
    "elif cd=='3':\n",
    "  cd=\"water\"\n",
    "de=input(\"Forklift used?: \")\n",
    "ef=input(\"External (Yes/No): \")\n",
    "fg=input(\"Is the Cargo Container Refrigerated? (Yes / No): \")"
   ]
  },
  {
   "cell_type": "code",
   "execution_count": 31,
   "id": "65bba5fc",
   "metadata": {},
   "outputs": [
    {
     "data": {
      "text/html": [
       "<div>\n",
       "<style scoped>\n",
       "    .dataframe tbody tr th:only-of-type {\n",
       "        vertical-align: middle;\n",
       "    }\n",
       "\n",
       "    .dataframe tbody tr th {\n",
       "        vertical-align: top;\n",
       "    }\n",
       "\n",
       "    .dataframe thead th {\n",
       "        text-align: right;\n",
       "    }\n",
       "</style>\n",
       "<table border=\"1\" class=\"dataframe\">\n",
       "  <thead>\n",
       "    <tr style=\"text-align: right;\">\n",
       "      <th></th>\n",
       "      <th>container id</th>\n",
       "      <th>date</th>\n",
       "      <th>city</th>\n",
       "      <th>Temperature</th>\n",
       "      <th>Mode of Transport</th>\n",
       "      <th>Fork Type</th>\n",
       "      <th>External</th>\n",
       "      <th>Refrigerated</th>\n",
       "      <th>Damage</th>\n",
       "    </tr>\n",
       "  </thead>\n",
       "  <tbody>\n",
       "    <tr>\n",
       "      <th>0</th>\n",
       "      <td>VPYR190662</td>\n",
       "      <td>23-09-2010</td>\n",
       "      <td>Purnea</td>\n",
       "      <td>30.00</td>\n",
       "      <td>land</td>\n",
       "      <td>Industrial Forklift</td>\n",
       "      <td>No</td>\n",
       "      <td>No</td>\n",
       "      <td>0</td>\n",
       "    </tr>\n",
       "    <tr>\n",
       "      <th>1</th>\n",
       "      <td>OAKF997890</td>\n",
       "      <td>15-10-2015</td>\n",
       "      <td>Joliet</td>\n",
       "      <td>12.00</td>\n",
       "      <td>land</td>\n",
       "      <td>Walkie Stacker</td>\n",
       "      <td>Yes</td>\n",
       "      <td>No</td>\n",
       "      <td>0</td>\n",
       "    </tr>\n",
       "    <tr>\n",
       "      <th>2</th>\n",
       "      <td>TAUV405783</td>\n",
       "      <td>11-10-2008</td>\n",
       "      <td>Taber</td>\n",
       "      <td>37.00</td>\n",
       "      <td>air</td>\n",
       "      <td>Pallet Jack</td>\n",
       "      <td>Yes</td>\n",
       "      <td>Yes</td>\n",
       "      <td>0</td>\n",
       "    </tr>\n",
       "    <tr>\n",
       "      <th>3</th>\n",
       "      <td>FNBW586962</td>\n",
       "      <td>18-09-2022</td>\n",
       "      <td>Shimla</td>\n",
       "      <td>5.00</td>\n",
       "      <td>land</td>\n",
       "      <td>Pallet Jack</td>\n",
       "      <td>No</td>\n",
       "      <td>No</td>\n",
       "      <td>0</td>\n",
       "    </tr>\n",
       "    <tr>\n",
       "      <th>4</th>\n",
       "      <td>CWGP237272</td>\n",
       "      <td>06-11-2018</td>\n",
       "      <td>Miami</td>\n",
       "      <td>38.00</td>\n",
       "      <td>air</td>\n",
       "      <td>Rough Terrain Forklift</td>\n",
       "      <td>Yes</td>\n",
       "      <td>No</td>\n",
       "      <td>1</td>\n",
       "    </tr>\n",
       "    <tr>\n",
       "      <th>...</th>\n",
       "      <td>...</td>\n",
       "      <td>...</td>\n",
       "      <td>...</td>\n",
       "      <td>...</td>\n",
       "      <td>...</td>\n",
       "      <td>...</td>\n",
       "      <td>...</td>\n",
       "      <td>...</td>\n",
       "      <td>...</td>\n",
       "    </tr>\n",
       "    <tr>\n",
       "      <th>19996</th>\n",
       "      <td>AJOE772324</td>\n",
       "      <td>07-01-2009</td>\n",
       "      <td>Trivandrum</td>\n",
       "      <td>25.00</td>\n",
       "      <td>land</td>\n",
       "      <td>Walkie Stacker</td>\n",
       "      <td>Yes</td>\n",
       "      <td>Yes</td>\n",
       "      <td>0</td>\n",
       "    </tr>\n",
       "    <tr>\n",
       "      <th>19997</th>\n",
       "      <td>XJEK284268</td>\n",
       "      <td>22-02-2017</td>\n",
       "      <td>Gary</td>\n",
       "      <td>39.00</td>\n",
       "      <td>water</td>\n",
       "      <td>Telehandler</td>\n",
       "      <td>Yes</td>\n",
       "      <td>Yes</td>\n",
       "      <td>0</td>\n",
       "    </tr>\n",
       "    <tr>\n",
       "      <th>19998</th>\n",
       "      <td>UMYR952437</td>\n",
       "      <td>18-03-2016</td>\n",
       "      <td>Haridwar</td>\n",
       "      <td>45.00</td>\n",
       "      <td>air</td>\n",
       "      <td>Rough Terrain Forklift</td>\n",
       "      <td>Yes</td>\n",
       "      <td>No</td>\n",
       "      <td>1</td>\n",
       "    </tr>\n",
       "    <tr>\n",
       "      <th>19999</th>\n",
       "      <td>DIBM828271</td>\n",
       "      <td>23-05-2017</td>\n",
       "      <td>Provo</td>\n",
       "      <td>44.00</td>\n",
       "      <td>land</td>\n",
       "      <td>Counterbalance Forklift</td>\n",
       "      <td>Yes</td>\n",
       "      <td>No</td>\n",
       "      <td>1</td>\n",
       "    </tr>\n",
       "    <tr>\n",
       "      <th>20000</th>\n",
       "      <td>UACU518232</td>\n",
       "      <td>18-12-2021</td>\n",
       "      <td>New Delhi</td>\n",
       "      <td>12.09</td>\n",
       "      <td>air</td>\n",
       "      <td>Pallet Jack</td>\n",
       "      <td>Yes</td>\n",
       "      <td>No</td>\n",
       "      <td>1</td>\n",
       "    </tr>\n",
       "  </tbody>\n",
       "</table>\n",
       "<p>20001 rows × 9 columns</p>\n",
       "</div>"
      ],
      "text/plain": [
       "      container id        date        city  Temperature Mode of Transport  \\\n",
       "0       VPYR190662  23-09-2010      Purnea        30.00              land   \n",
       "1       OAKF997890  15-10-2015      Joliet        12.00              land   \n",
       "2       TAUV405783  11-10-2008       Taber        37.00               air   \n",
       "3       FNBW586962  18-09-2022      Shimla         5.00              land   \n",
       "4       CWGP237272  06-11-2018       Miami        38.00               air   \n",
       "...            ...         ...         ...          ...               ...   \n",
       "19996   AJOE772324  07-01-2009  Trivandrum        25.00              land   \n",
       "19997   XJEK284268  22-02-2017        Gary        39.00             water   \n",
       "19998   UMYR952437  18-03-2016    Haridwar        45.00               air   \n",
       "19999   DIBM828271  23-05-2017       Provo        44.00              land   \n",
       "20000   UACU518232  18-12-2021   New Delhi        12.09               air   \n",
       "\n",
       "                     Fork Type External Refrigerated Damage  \n",
       "0          Industrial Forklift       No           No      0  \n",
       "1               Walkie Stacker      Yes           No      0  \n",
       "2                  Pallet Jack      Yes          Yes      0  \n",
       "3                  Pallet Jack       No           No      0  \n",
       "4       Rough Terrain Forklift      Yes           No      1  \n",
       "...                        ...      ...          ...    ...  \n",
       "19996           Walkie Stacker      Yes          Yes      0  \n",
       "19997              Telehandler      Yes          Yes      0  \n",
       "19998   Rough Terrain Forklift      Yes           No      1  \n",
       "19999  Counterbalance Forklift      Yes           No      1  \n",
       "20000              Pallet Jack      Yes           No      1  \n",
       "\n",
       "[20001 rows x 9 columns]"
      ]
     },
     "execution_count": 31,
     "metadata": {},
     "output_type": "execute_result"
    }
   ],
   "source": [
    "# df.update({'index':-1,'container id':'temp','date':'23-09-2022','city':'my_city','Temperature':'20',\n",
    "#            'Mode of Transport':'sea','Fork Type':'same','External':'yes','Refrigerated':'port','Damage':1})\n",
    "\n",
    "df = df.append({'container id':list_join,'date':'18-12-2021','city':ab,'Temperature':bc,\n",
    "           'Mode of Transport':cd,'Fork Type':de,'External':ef,'Refrigerated':fg,'Damage':dmgflag},ignore_index=True)\n",
    "df"
   ]
  },
  {
   "cell_type": "code",
   "execution_count": 32,
   "id": "d3841e36",
   "metadata": {},
   "outputs": [
    {
     "data": {
      "text/html": [
       "<div>\n",
       "<style scoped>\n",
       "    .dataframe tbody tr th:only-of-type {\n",
       "        vertical-align: middle;\n",
       "    }\n",
       "\n",
       "    .dataframe tbody tr th {\n",
       "        vertical-align: top;\n",
       "    }\n",
       "\n",
       "    .dataframe thead th {\n",
       "        text-align: right;\n",
       "    }\n",
       "</style>\n",
       "<table border=\"1\" class=\"dataframe\">\n",
       "  <thead>\n",
       "    <tr style=\"text-align: right;\">\n",
       "      <th></th>\n",
       "      <th>container id</th>\n",
       "      <th>date</th>\n",
       "      <th>city</th>\n",
       "      <th>Temperature</th>\n",
       "      <th>Mode of Transport</th>\n",
       "      <th>Fork Type</th>\n",
       "      <th>External</th>\n",
       "      <th>Refrigerated</th>\n",
       "      <th>Damage</th>\n",
       "    </tr>\n",
       "  </thead>\n",
       "  <tbody>\n",
       "    <tr>\n",
       "      <th>0</th>\n",
       "      <td>VPYR190662</td>\n",
       "      <td>23-09-2010</td>\n",
       "      <td>Purnea</td>\n",
       "      <td>30.00</td>\n",
       "      <td>land</td>\n",
       "      <td>Industrial Forklift</td>\n",
       "      <td>No</td>\n",
       "      <td>No</td>\n",
       "      <td>0</td>\n",
       "    </tr>\n",
       "    <tr>\n",
       "      <th>1</th>\n",
       "      <td>OAKF997890</td>\n",
       "      <td>15-10-2015</td>\n",
       "      <td>Joliet</td>\n",
       "      <td>12.00</td>\n",
       "      <td>land</td>\n",
       "      <td>Walkie Stacker</td>\n",
       "      <td>Yes</td>\n",
       "      <td>No</td>\n",
       "      <td>0</td>\n",
       "    </tr>\n",
       "    <tr>\n",
       "      <th>2</th>\n",
       "      <td>TAUV405783</td>\n",
       "      <td>11-10-2008</td>\n",
       "      <td>Taber</td>\n",
       "      <td>37.00</td>\n",
       "      <td>air</td>\n",
       "      <td>Pallet Jack</td>\n",
       "      <td>Yes</td>\n",
       "      <td>Yes</td>\n",
       "      <td>0</td>\n",
       "    </tr>\n",
       "    <tr>\n",
       "      <th>3</th>\n",
       "      <td>FNBW586962</td>\n",
       "      <td>18-09-2022</td>\n",
       "      <td>Shimla</td>\n",
       "      <td>5.00</td>\n",
       "      <td>land</td>\n",
       "      <td>Pallet Jack</td>\n",
       "      <td>No</td>\n",
       "      <td>No</td>\n",
       "      <td>0</td>\n",
       "    </tr>\n",
       "    <tr>\n",
       "      <th>4</th>\n",
       "      <td>CWGP237272</td>\n",
       "      <td>06-11-2018</td>\n",
       "      <td>Miami</td>\n",
       "      <td>38.00</td>\n",
       "      <td>air</td>\n",
       "      <td>Rough Terrain Forklift</td>\n",
       "      <td>Yes</td>\n",
       "      <td>No</td>\n",
       "      <td>1</td>\n",
       "    </tr>\n",
       "    <tr>\n",
       "      <th>...</th>\n",
       "      <td>...</td>\n",
       "      <td>...</td>\n",
       "      <td>...</td>\n",
       "      <td>...</td>\n",
       "      <td>...</td>\n",
       "      <td>...</td>\n",
       "      <td>...</td>\n",
       "      <td>...</td>\n",
       "      <td>...</td>\n",
       "    </tr>\n",
       "    <tr>\n",
       "      <th>19996</th>\n",
       "      <td>AJOE772324</td>\n",
       "      <td>07-01-2009</td>\n",
       "      <td>Trivandrum</td>\n",
       "      <td>25.00</td>\n",
       "      <td>land</td>\n",
       "      <td>Walkie Stacker</td>\n",
       "      <td>Yes</td>\n",
       "      <td>Yes</td>\n",
       "      <td>0</td>\n",
       "    </tr>\n",
       "    <tr>\n",
       "      <th>19997</th>\n",
       "      <td>XJEK284268</td>\n",
       "      <td>22-02-2017</td>\n",
       "      <td>Gary</td>\n",
       "      <td>39.00</td>\n",
       "      <td>water</td>\n",
       "      <td>Telehandler</td>\n",
       "      <td>Yes</td>\n",
       "      <td>Yes</td>\n",
       "      <td>0</td>\n",
       "    </tr>\n",
       "    <tr>\n",
       "      <th>19998</th>\n",
       "      <td>UMYR952437</td>\n",
       "      <td>18-03-2016</td>\n",
       "      <td>Haridwar</td>\n",
       "      <td>45.00</td>\n",
       "      <td>air</td>\n",
       "      <td>Rough Terrain Forklift</td>\n",
       "      <td>Yes</td>\n",
       "      <td>No</td>\n",
       "      <td>1</td>\n",
       "    </tr>\n",
       "    <tr>\n",
       "      <th>19999</th>\n",
       "      <td>DIBM828271</td>\n",
       "      <td>23-05-2017</td>\n",
       "      <td>Provo</td>\n",
       "      <td>44.00</td>\n",
       "      <td>land</td>\n",
       "      <td>Counterbalance Forklift</td>\n",
       "      <td>Yes</td>\n",
       "      <td>No</td>\n",
       "      <td>1</td>\n",
       "    </tr>\n",
       "    <tr>\n",
       "      <th>20000</th>\n",
       "      <td>UACU518232</td>\n",
       "      <td>18-12-2021</td>\n",
       "      <td>New Delhi</td>\n",
       "      <td>12.09</td>\n",
       "      <td>air</td>\n",
       "      <td>Pallet Jack</td>\n",
       "      <td>Yes</td>\n",
       "      <td>No</td>\n",
       "      <td>1</td>\n",
       "    </tr>\n",
       "  </tbody>\n",
       "</table>\n",
       "<p>20001 rows × 9 columns</p>\n",
       "</div>"
      ],
      "text/plain": [
       "      container id        date        city  Temperature Mode of Transport  \\\n",
       "0       VPYR190662  23-09-2010      Purnea        30.00              land   \n",
       "1       OAKF997890  15-10-2015      Joliet        12.00              land   \n",
       "2       TAUV405783  11-10-2008       Taber        37.00               air   \n",
       "3       FNBW586962  18-09-2022      Shimla         5.00              land   \n",
       "4       CWGP237272  06-11-2018       Miami        38.00               air   \n",
       "...            ...         ...         ...          ...               ...   \n",
       "19996   AJOE772324  07-01-2009  Trivandrum        25.00              land   \n",
       "19997   XJEK284268  22-02-2017        Gary        39.00             water   \n",
       "19998   UMYR952437  18-03-2016    Haridwar        45.00               air   \n",
       "19999   DIBM828271  23-05-2017       Provo        44.00              land   \n",
       "20000   UACU518232  18-12-2021   New Delhi        12.09               air   \n",
       "\n",
       "                     Fork Type External Refrigerated Damage  \n",
       "0          Industrial Forklift       No           No      0  \n",
       "1               Walkie Stacker      Yes           No      0  \n",
       "2                  Pallet Jack      Yes          Yes      0  \n",
       "3                  Pallet Jack       No           No      0  \n",
       "4       Rough Terrain Forklift      Yes           No      1  \n",
       "...                        ...      ...          ...    ...  \n",
       "19996           Walkie Stacker      Yes          Yes      0  \n",
       "19997              Telehandler      Yes          Yes      0  \n",
       "19998   Rough Terrain Forklift      Yes           No      1  \n",
       "19999  Counterbalance Forklift      Yes           No      1  \n",
       "20000              Pallet Jack      Yes           No      1  \n",
       "\n",
       "[20001 rows x 9 columns]"
      ]
     },
     "execution_count": 32,
     "metadata": {},
     "output_type": "execute_result"
    }
   ],
   "source": [
    "df"
   ]
  },
  {
   "cell_type": "markdown",
   "id": "0fec5659",
   "metadata": {},
   "source": [
    "# Exploratory data analysis"
   ]
  },
  {
   "cell_type": "code",
   "execution_count": 33,
   "id": "eae9aefa",
   "metadata": {},
   "outputs": [
    {
     "data": {
      "text/html": [
       "<div>\n",
       "<style scoped>\n",
       "    .dataframe tbody tr th:only-of-type {\n",
       "        vertical-align: middle;\n",
       "    }\n",
       "\n",
       "    .dataframe tbody tr th {\n",
       "        vertical-align: top;\n",
       "    }\n",
       "\n",
       "    .dataframe thead th {\n",
       "        text-align: right;\n",
       "    }\n",
       "</style>\n",
       "<table border=\"1\" class=\"dataframe\">\n",
       "  <thead>\n",
       "    <tr style=\"text-align: right;\">\n",
       "      <th></th>\n",
       "      <th>container id</th>\n",
       "      <th>date</th>\n",
       "      <th>city</th>\n",
       "      <th>Temperature</th>\n",
       "      <th>Mode of Transport</th>\n",
       "      <th>Fork Type</th>\n",
       "      <th>External</th>\n",
       "      <th>Refrigerated</th>\n",
       "      <th>Damage</th>\n",
       "    </tr>\n",
       "  </thead>\n",
       "  <tbody>\n",
       "    <tr>\n",
       "      <th>0</th>\n",
       "      <td>VPYR190662</td>\n",
       "      <td>23-09-2010</td>\n",
       "      <td>Purnea</td>\n",
       "      <td>30.00</td>\n",
       "      <td>land</td>\n",
       "      <td>Industrial Forklift</td>\n",
       "      <td>No</td>\n",
       "      <td>No</td>\n",
       "      <td>0</td>\n",
       "    </tr>\n",
       "    <tr>\n",
       "      <th>1</th>\n",
       "      <td>OAKF997890</td>\n",
       "      <td>15-10-2015</td>\n",
       "      <td>Joliet</td>\n",
       "      <td>12.00</td>\n",
       "      <td>land</td>\n",
       "      <td>Walkie Stacker</td>\n",
       "      <td>Yes</td>\n",
       "      <td>No</td>\n",
       "      <td>0</td>\n",
       "    </tr>\n",
       "    <tr>\n",
       "      <th>2</th>\n",
       "      <td>TAUV405783</td>\n",
       "      <td>11-10-2008</td>\n",
       "      <td>Taber</td>\n",
       "      <td>37.00</td>\n",
       "      <td>air</td>\n",
       "      <td>Pallet Jack</td>\n",
       "      <td>Yes</td>\n",
       "      <td>Yes</td>\n",
       "      <td>0</td>\n",
       "    </tr>\n",
       "    <tr>\n",
       "      <th>3</th>\n",
       "      <td>FNBW586962</td>\n",
       "      <td>18-09-2022</td>\n",
       "      <td>Shimla</td>\n",
       "      <td>5.00</td>\n",
       "      <td>land</td>\n",
       "      <td>Pallet Jack</td>\n",
       "      <td>No</td>\n",
       "      <td>No</td>\n",
       "      <td>0</td>\n",
       "    </tr>\n",
       "    <tr>\n",
       "      <th>4</th>\n",
       "      <td>CWGP237272</td>\n",
       "      <td>06-11-2018</td>\n",
       "      <td>Miami</td>\n",
       "      <td>38.00</td>\n",
       "      <td>air</td>\n",
       "      <td>Rough Terrain Forklift</td>\n",
       "      <td>Yes</td>\n",
       "      <td>No</td>\n",
       "      <td>1</td>\n",
       "    </tr>\n",
       "    <tr>\n",
       "      <th>...</th>\n",
       "      <td>...</td>\n",
       "      <td>...</td>\n",
       "      <td>...</td>\n",
       "      <td>...</td>\n",
       "      <td>...</td>\n",
       "      <td>...</td>\n",
       "      <td>...</td>\n",
       "      <td>...</td>\n",
       "      <td>...</td>\n",
       "    </tr>\n",
       "    <tr>\n",
       "      <th>19996</th>\n",
       "      <td>AJOE772324</td>\n",
       "      <td>07-01-2009</td>\n",
       "      <td>Trivandrum</td>\n",
       "      <td>25.00</td>\n",
       "      <td>land</td>\n",
       "      <td>Walkie Stacker</td>\n",
       "      <td>Yes</td>\n",
       "      <td>Yes</td>\n",
       "      <td>0</td>\n",
       "    </tr>\n",
       "    <tr>\n",
       "      <th>19997</th>\n",
       "      <td>XJEK284268</td>\n",
       "      <td>22-02-2017</td>\n",
       "      <td>Gary</td>\n",
       "      <td>39.00</td>\n",
       "      <td>water</td>\n",
       "      <td>Telehandler</td>\n",
       "      <td>Yes</td>\n",
       "      <td>Yes</td>\n",
       "      <td>0</td>\n",
       "    </tr>\n",
       "    <tr>\n",
       "      <th>19998</th>\n",
       "      <td>UMYR952437</td>\n",
       "      <td>18-03-2016</td>\n",
       "      <td>Haridwar</td>\n",
       "      <td>45.00</td>\n",
       "      <td>air</td>\n",
       "      <td>Rough Terrain Forklift</td>\n",
       "      <td>Yes</td>\n",
       "      <td>No</td>\n",
       "      <td>1</td>\n",
       "    </tr>\n",
       "    <tr>\n",
       "      <th>19999</th>\n",
       "      <td>DIBM828271</td>\n",
       "      <td>23-05-2017</td>\n",
       "      <td>Provo</td>\n",
       "      <td>44.00</td>\n",
       "      <td>land</td>\n",
       "      <td>Counterbalance Forklift</td>\n",
       "      <td>Yes</td>\n",
       "      <td>No</td>\n",
       "      <td>1</td>\n",
       "    </tr>\n",
       "    <tr>\n",
       "      <th>20000</th>\n",
       "      <td>UACU518232</td>\n",
       "      <td>18-12-2021</td>\n",
       "      <td>New Delhi</td>\n",
       "      <td>12.09</td>\n",
       "      <td>air</td>\n",
       "      <td>Pallet Jack</td>\n",
       "      <td>Yes</td>\n",
       "      <td>No</td>\n",
       "      <td>1</td>\n",
       "    </tr>\n",
       "  </tbody>\n",
       "</table>\n",
       "<p>20001 rows × 9 columns</p>\n",
       "</div>"
      ],
      "text/plain": [
       "      container id        date        city  Temperature Mode of Transport  \\\n",
       "0       VPYR190662  23-09-2010      Purnea        30.00              land   \n",
       "1       OAKF997890  15-10-2015      Joliet        12.00              land   \n",
       "2       TAUV405783  11-10-2008       Taber        37.00               air   \n",
       "3       FNBW586962  18-09-2022      Shimla         5.00              land   \n",
       "4       CWGP237272  06-11-2018       Miami        38.00               air   \n",
       "...            ...         ...         ...          ...               ...   \n",
       "19996   AJOE772324  07-01-2009  Trivandrum        25.00              land   \n",
       "19997   XJEK284268  22-02-2017        Gary        39.00             water   \n",
       "19998   UMYR952437  18-03-2016    Haridwar        45.00               air   \n",
       "19999   DIBM828271  23-05-2017       Provo        44.00              land   \n",
       "20000   UACU518232  18-12-2021   New Delhi        12.09               air   \n",
       "\n",
       "                     Fork Type External Refrigerated Damage  \n",
       "0          Industrial Forklift       No           No      0  \n",
       "1               Walkie Stacker      Yes           No      0  \n",
       "2                  Pallet Jack      Yes          Yes      0  \n",
       "3                  Pallet Jack       No           No      0  \n",
       "4       Rough Terrain Forklift      Yes           No      1  \n",
       "...                        ...      ...          ...    ...  \n",
       "19996           Walkie Stacker      Yes          Yes      0  \n",
       "19997              Telehandler      Yes          Yes      0  \n",
       "19998   Rough Terrain Forklift      Yes           No      1  \n",
       "19999  Counterbalance Forklift      Yes           No      1  \n",
       "20000              Pallet Jack      Yes           No      1  \n",
       "\n",
       "[20001 rows x 9 columns]"
      ]
     },
     "execution_count": 33,
     "metadata": {},
     "output_type": "execute_result"
    }
   ],
   "source": [
    "df"
   ]
  },
  {
   "cell_type": "code",
   "execution_count": 34,
   "id": "c8623d95",
   "metadata": {},
   "outputs": [
    {
     "name": "stdout",
     "output_type": "stream",
     "text": [
      "<class 'pandas.core.frame.DataFrame'>\n",
      "RangeIndex: 20001 entries, 0 to 20000\n",
      "Data columns (total 9 columns):\n",
      " #   Column             Non-Null Count  Dtype  \n",
      "---  ------             --------------  -----  \n",
      " 0   container id       20001 non-null  object \n",
      " 1   date               20001 non-null  object \n",
      " 2   city               20001 non-null  object \n",
      " 3   Temperature        20001 non-null  float64\n",
      " 4   Mode of Transport  20001 non-null  object \n",
      " 5   Fork Type          20001 non-null  object \n",
      " 6   External           20001 non-null  object \n",
      " 7   Refrigerated       20001 non-null  object \n",
      " 8   Damage             20001 non-null  object \n",
      "dtypes: float64(1), object(8)\n",
      "memory usage: 1.4+ MB\n"
     ]
    }
   ],
   "source": [
    "df.info()"
   ]
  },
  {
   "cell_type": "code",
   "execution_count": 35,
   "id": "f06f200e",
   "metadata": {},
   "outputs": [
    {
     "data": {
      "text/html": [
       "<div>\n",
       "<style scoped>\n",
       "    .dataframe tbody tr th:only-of-type {\n",
       "        vertical-align: middle;\n",
       "    }\n",
       "\n",
       "    .dataframe tbody tr th {\n",
       "        vertical-align: top;\n",
       "    }\n",
       "\n",
       "    .dataframe thead th {\n",
       "        text-align: right;\n",
       "    }\n",
       "</style>\n",
       "<table border=\"1\" class=\"dataframe\">\n",
       "  <thead>\n",
       "    <tr style=\"text-align: right;\">\n",
       "      <th></th>\n",
       "      <th>Temperature</th>\n",
       "    </tr>\n",
       "  </thead>\n",
       "  <tbody>\n",
       "    <tr>\n",
       "      <th>count</th>\n",
       "      <td>20001.000000</td>\n",
       "    </tr>\n",
       "    <tr>\n",
       "      <th>mean</th>\n",
       "      <td>22.420233</td>\n",
       "    </tr>\n",
       "    <tr>\n",
       "      <th>std</th>\n",
       "      <td>12.995913</td>\n",
       "    </tr>\n",
       "    <tr>\n",
       "      <th>min</th>\n",
       "      <td>0.000000</td>\n",
       "    </tr>\n",
       "    <tr>\n",
       "      <th>25%</th>\n",
       "      <td>11.000000</td>\n",
       "    </tr>\n",
       "    <tr>\n",
       "      <th>50%</th>\n",
       "      <td>22.000000</td>\n",
       "    </tr>\n",
       "    <tr>\n",
       "      <th>75%</th>\n",
       "      <td>34.000000</td>\n",
       "    </tr>\n",
       "    <tr>\n",
       "      <th>max</th>\n",
       "      <td>45.000000</td>\n",
       "    </tr>\n",
       "  </tbody>\n",
       "</table>\n",
       "</div>"
      ],
      "text/plain": [
       "        Temperature\n",
       "count  20001.000000\n",
       "mean      22.420233\n",
       "std       12.995913\n",
       "min        0.000000\n",
       "25%       11.000000\n",
       "50%       22.000000\n",
       "75%       34.000000\n",
       "max       45.000000"
      ]
     },
     "execution_count": 35,
     "metadata": {},
     "output_type": "execute_result"
    }
   ],
   "source": [
    "df.describe()"
   ]
  },
  {
   "cell_type": "code",
   "execution_count": 36,
   "id": "1cc5a050",
   "metadata": {},
   "outputs": [
    {
     "data": {
      "image/png": "[encoded data removed]",
      "text/plain": [
       "<Figure size 864x720 with 2 Axes>"
      ]
     },
     "metadata": {
      "needs_background": "light"
     },
     "output_type": "display_data"
    }
   ],
   "source": [
    "plt.figure(figsize=(12, 10))\n",
    "heatmap = sns.heatmap(df.corr(),vmin=-1, vmax=1, annot=True, cmap='BrBG')\n",
    "heatmap.set_title('Correlation Heatmap', fontdict={'fontsize':12}, pad=10);"
   ]
  },
  {
   "cell_type": "code",
   "execution_count": 37,
   "id": "f3542d8a",
   "metadata": {},
   "outputs": [
    {
     "data": {
      "text/html": [
       "<div>\n",
       "<style scoped>\n",
       "    .dataframe tbody tr th:only-of-type {\n",
       "        vertical-align: middle;\n",
       "    }\n",
       "\n",
       "    .dataframe tbody tr th {\n",
       "        vertical-align: top;\n",
       "    }\n",
       "\n",
       "    .dataframe thead th {\n",
       "        text-align: right;\n",
       "    }\n",
       "</style>\n",
       "<table border=\"1\" class=\"dataframe\">\n",
       "  <thead>\n",
       "    <tr style=\"text-align: right;\">\n",
       "      <th></th>\n",
       "      <th>Mode of Transport</th>\n",
       "      <th>Damage</th>\n",
       "    </tr>\n",
       "  </thead>\n",
       "  <tbody>\n",
       "    <tr>\n",
       "      <th>0</th>\n",
       "      <td>land</td>\n",
       "      <td>0</td>\n",
       "    </tr>\n",
       "    <tr>\n",
       "      <th>1</th>\n",
       "      <td>land</td>\n",
       "      <td>0</td>\n",
       "    </tr>\n",
       "    <tr>\n",
       "      <th>2</th>\n",
       "      <td>air</td>\n",
       "      <td>0</td>\n",
       "    </tr>\n",
       "    <tr>\n",
       "      <th>3</th>\n",
       "      <td>land</td>\n",
       "      <td>0</td>\n",
       "    </tr>\n",
       "    <tr>\n",
       "      <th>4</th>\n",
       "      <td>air</td>\n",
       "      <td>1</td>\n",
       "    </tr>\n",
       "    <tr>\n",
       "      <th>...</th>\n",
       "      <td>...</td>\n",
       "      <td>...</td>\n",
       "    </tr>\n",
       "    <tr>\n",
       "      <th>19996</th>\n",
       "      <td>land</td>\n",
       "      <td>0</td>\n",
       "    </tr>\n",
       "    <tr>\n",
       "      <th>19997</th>\n",
       "      <td>water</td>\n",
       "      <td>0</td>\n",
       "    </tr>\n",
       "    <tr>\n",
       "      <th>19998</th>\n",
       "      <td>air</td>\n",
       "      <td>1</td>\n",
       "    </tr>\n",
       "    <tr>\n",
       "      <th>19999</th>\n",
       "      <td>land</td>\n",
       "      <td>1</td>\n",
       "    </tr>\n",
       "    <tr>\n",
       "      <th>20000</th>\n",
       "      <td>air</td>\n",
       "      <td>1</td>\n",
       "    </tr>\n",
       "  </tbody>\n",
       "</table>\n",
       "<p>20001 rows × 2 columns</p>\n",
       "</div>"
      ],
      "text/plain": [
       "      Mode of Transport Damage\n",
       "0                  land      0\n",
       "1                  land      0\n",
       "2                   air      0\n",
       "3                  land      0\n",
       "4                   air      1\n",
       "...                 ...    ...\n",
       "19996              land      0\n",
       "19997             water      0\n",
       "19998               air      1\n",
       "19999              land      1\n",
       "20000               air      1\n",
       "\n",
       "[20001 rows x 2 columns]"
      ]
     },
     "execution_count": 37,
     "metadata": {},
     "output_type": "execute_result"
    }
   ],
   "source": [
    "df[['Mode of Transport','Damage']]"
   ]
  },
  {
   "cell_type": "code",
   "execution_count": 38,
   "id": "b2360bd5",
   "metadata": {},
   "outputs": [
    {
     "name": "stdout",
     "output_type": "stream",
     "text": [
      "Damage                      0    1  1\n",
      "Fork Type                            \n",
      "Counterbalance Forklift  2276  291  0\n",
      "Industrial Forklift      2311  280  0\n",
      "Pallet Jack              2210  259  1\n",
      "Rough Terrain Forklift   2248  329  0\n",
      "Side Loader              2104  251  0\n",
      "Telehandler              2232  304  0\n",
      "Walkie Stacker           2185  275  0\n",
      "Warehouse Forklift       2169  276  0\n",
      "The P-Value of the ChiSq Test is: 0.2537494100275413\n",
      "(17.04572396035911, 0.2537494100275413, 14, array([[2.27617344e+03, 2.90698215e+02, 1.28343583e-01],\n",
      "       [2.29745438e+03, 2.93416079e+02, 1.29543523e-01],\n",
      "       [2.19016299e+03, 2.79713514e+02, 1.23493825e-01],\n",
      "       [2.28504050e+03, 2.91830658e+02, 1.28843558e-01],\n",
      "       [2.08819184e+03, 2.66690415e+02, 1.17744113e-01],\n",
      "       [2.24868557e+03, 2.87187641e+02, 1.26793660e-01],\n",
      "       [2.18129594e+03, 2.78581071e+02, 1.22993850e-01],\n",
      "       [2.16799535e+03, 2.76882406e+02, 1.22243888e-01]]))\n"
     ]
    }
   ],
   "source": [
    "CrosstabResult=pd.crosstab(index=df['Fork Type'],columns=df['Damage'])\n",
    "print(CrosstabResult)\n",
    " \n",
    "# importing the required function\n",
    "from scipy.stats import chi2_contingency\n",
    " \n",
    "# Performing Chi-sq test\n",
    "ChiSqResult = chi2_contingency(CrosstabResult)\n",
    " \n",
    "# P-Value is the Probability of H0 being True\n",
    "# If P-Value>0.25 then only we Accept the assumption(H0)\n",
    " \n",
    "print('The P-Value of the ChiSq Test is:', ChiSqResult[1])\n",
    "print(ChiSqResult)"
   ]
  },
  {
   "cell_type": "markdown",
   "id": "c94eadb4",
   "metadata": {},
   "source": [
    "# Finding P-Value by using Chi-square test"
   ]
  },
  {
   "cell_type": "code",
   "execution_count": 40,
   "id": "644c1844",
   "metadata": {},
   "outputs": [
    {
     "data": {
      "text/html": [
       "<div>\n",
       "<style scoped>\n",
       "    .dataframe tbody tr th:only-of-type {\n",
       "        vertical-align: middle;\n",
       "    }\n",
       "\n",
       "    .dataframe tbody tr th {\n",
       "        vertical-align: top;\n",
       "    }\n",
       "\n",
       "    .dataframe thead th {\n",
       "        text-align: right;\n",
       "    }\n",
       "</style>\n",
       "<table border=\"1\" class=\"dataframe\">\n",
       "  <thead>\n",
       "    <tr style=\"text-align: right;\">\n",
       "      <th></th>\n",
       "      <th>container id</th>\n",
       "      <th>date</th>\n",
       "      <th>city</th>\n",
       "      <th>Temperature</th>\n",
       "      <th>Mode of Transport</th>\n",
       "      <th>Fork Type</th>\n",
       "      <th>External</th>\n",
       "      <th>Refrigerated</th>\n",
       "      <th>Damage</th>\n",
       "    </tr>\n",
       "  </thead>\n",
       "  <tbody>\n",
       "    <tr>\n",
       "      <th>container id</th>\n",
       "      <td>0.0</td>\n",
       "      <td>1.185259e+08</td>\n",
       "      <td>2.044102e+07</td>\n",
       "      <td>920046.000000</td>\n",
       "      <td>40002.000000</td>\n",
       "      <td>140007.000000</td>\n",
       "      <td>20001.000000</td>\n",
       "      <td>20001.000000</td>\n",
       "      <td>40002.000000</td>\n",
       "    </tr>\n",
       "    <tr>\n",
       "      <th>date</th>\n",
       "      <td>118525926.0</td>\n",
       "      <td>0.000000e+00</td>\n",
       "      <td>6.284196e+06</td>\n",
       "      <td>281436.535726</td>\n",
       "      <td>12285.679852</td>\n",
       "      <td>43026.833309</td>\n",
       "      <td>6103.599242</td>\n",
       "      <td>6271.182994</td>\n",
       "      <td>10906.895336</td>\n",
       "    </tr>\n",
       "    <tr>\n",
       "      <th>city</th>\n",
       "      <td>20441022.0</td>\n",
       "      <td>6.284196e+06</td>\n",
       "      <td>0.000000e+00</td>\n",
       "      <td>67854.791747</td>\n",
       "      <td>2173.887836</td>\n",
       "      <td>7523.279273</td>\n",
       "      <td>1059.233244</td>\n",
       "      <td>1044.948844</td>\n",
       "      <td>21026.992541</td>\n",
       "    </tr>\n",
       "    <tr>\n",
       "      <th>Temperature</th>\n",
       "      <td>920046.0</td>\n",
       "      <td>2.814365e+05</td>\n",
       "      <td>6.785479e+04</td>\n",
       "      <td>0.000000</td>\n",
       "      <td>86.606925</td>\n",
       "      <td>332.521098</td>\n",
       "      <td>27.144512</td>\n",
       "      <td>52.427500</td>\n",
       "      <td>28615.842220</td>\n",
       "    </tr>\n",
       "    <tr>\n",
       "      <th>Mode of Transport</th>\n",
       "      <td>40002.0</td>\n",
       "      <td>1.228568e+04</td>\n",
       "      <td>2.173888e+03</td>\n",
       "      <td>86.606925</td>\n",
       "      <td>0.000000</td>\n",
       "      <td>8.209481</td>\n",
       "      <td>1.178052</td>\n",
       "      <td>1.597606</td>\n",
       "      <td>6.492599</td>\n",
       "    </tr>\n",
       "    <tr>\n",
       "      <th>Fork Type</th>\n",
       "      <td>140007.0</td>\n",
       "      <td>4.302683e+04</td>\n",
       "      <td>7.523279e+03</td>\n",
       "      <td>332.521098</td>\n",
       "      <td>8.209481</td>\n",
       "      <td>0.000000</td>\n",
       "      <td>2.150495</td>\n",
       "      <td>8.735515</td>\n",
       "      <td>17.045724</td>\n",
       "    </tr>\n",
       "    <tr>\n",
       "      <th>External</th>\n",
       "      <td>20001.0</td>\n",
       "      <td>6.103599e+03</td>\n",
       "      <td>1.059233e+03</td>\n",
       "      <td>27.144512</td>\n",
       "      <td>1.178052</td>\n",
       "      <td>2.150495</td>\n",
       "      <td>0.000000</td>\n",
       "      <td>0.023332</td>\n",
       "      <td>1.337077</td>\n",
       "    </tr>\n",
       "    <tr>\n",
       "      <th>Refrigerated</th>\n",
       "      <td>20001.0</td>\n",
       "      <td>6.271183e+03</td>\n",
       "      <td>1.044949e+03</td>\n",
       "      <td>52.427500</td>\n",
       "      <td>1.597606</td>\n",
       "      <td>8.735515</td>\n",
       "      <td>0.023332</td>\n",
       "      <td>0.000000</td>\n",
       "      <td>2592.850568</td>\n",
       "    </tr>\n",
       "    <tr>\n",
       "      <th>Damage</th>\n",
       "      <td>40002.0</td>\n",
       "      <td>1.090690e+04</td>\n",
       "      <td>2.102699e+04</td>\n",
       "      <td>28615.842220</td>\n",
       "      <td>6.492599</td>\n",
       "      <td>17.045724</td>\n",
       "      <td>1.337077</td>\n",
       "      <td>2592.850568</td>\n",
       "      <td>0.000000</td>\n",
       "    </tr>\n",
       "  </tbody>\n",
       "</table>\n",
       "</div>"
      ],
      "text/plain": [
       "                   container id          date          city    Temperature  \\\n",
       "container id                0.0  1.185259e+08  2.044102e+07  920046.000000   \n",
       "date                118525926.0  0.000000e+00  6.284196e+06  281436.535726   \n",
       "city                 20441022.0  6.284196e+06  0.000000e+00   67854.791747   \n",
       "Temperature            920046.0  2.814365e+05  6.785479e+04       0.000000   \n",
       "Mode of Transport       40002.0  1.228568e+04  2.173888e+03      86.606925   \n",
       "Fork Type              140007.0  4.302683e+04  7.523279e+03     332.521098   \n",
       "External                20001.0  6.103599e+03  1.059233e+03      27.144512   \n",
       "Refrigerated            20001.0  6.271183e+03  1.044949e+03      52.427500   \n",
       "Damage                  40002.0  1.090690e+04  2.102699e+04   28615.842220   \n",
       "\n",
       "                   Mode of Transport      Fork Type      External  \\\n",
       "container id            40002.000000  140007.000000  20001.000000   \n",
       "date                    12285.679852   43026.833309   6103.599242   \n",
       "city                     2173.887836    7523.279273   1059.233244   \n",
       "Temperature                86.606925     332.521098     27.144512   \n",
       "Mode of Transport           0.000000       8.209481      1.178052   \n",
       "Fork Type                   8.209481       0.000000      2.150495   \n",
       "External                    1.178052       2.150495      0.000000   \n",
       "Refrigerated                1.597606       8.735515      0.023332   \n",
       "Damage                      6.492599      17.045724      1.337077   \n",
       "\n",
       "                   Refrigerated        Damage  \n",
       "container id       20001.000000  40002.000000  \n",
       "date                6271.182994  10906.895336  \n",
       "city                1044.948844  21026.992541  \n",
       "Temperature           52.427500  28615.842220  \n",
       "Mode of Transport      1.597606      6.492599  \n",
       "Fork Type              8.735515     17.045724  \n",
       "External               0.023332      1.337077  \n",
       "Refrigerated           0.000000   2592.850568  \n",
       "Damage              2592.850568      0.000000  "
      ]
     },
     "execution_count": 40,
     "metadata": {},
     "output_type": "execute_result"
    }
   ],
   "source": [
    "from scipy.stats import chi2_contingency\n",
    "factors_paired = [(i,j) for i in df.columns.values for j in df.columns.values] \n",
    "\n",
    "chi2, p_values =[], []\n",
    "\n",
    "for f in factors_paired:\n",
    "    if f[0] != f[1]:\n",
    "        chitest = chi2_contingency(pd.crosstab(df[f[0]], df[f[1]]))   \n",
    "        chi2.append(chitest[0])\n",
    "        p_values.append(chitest[1])\n",
    "    else:      # for same factor pair\n",
    "        chi2.append(0)\n",
    "        p_values.append(0)\n",
    "\n",
    "chi2 = np.array(chi2).reshape((9,9)) # shape it as a matrix\n",
    "chi2 = pd.DataFrame(chi2, index=df.columns.values, columns=df.columns.values)\n",
    "chi2"
   ]
  },
  {
   "cell_type": "markdown",
   "id": "84ec9e60",
   "metadata": {},
   "source": [
    "# Cramer's V Statistics for finding Correlation Heatmap between categorical attributes "
   ]
  },
  {
   "cell_type": "code",
   "execution_count": 41,
   "id": "9e48b30f",
   "metadata": {},
   "outputs": [
    {
     "data": {
      "image/png": "[encoded data removed]",
      "text/plain": [
       "<Figure size 864x720 with 2 Axes>"
      ]
     },
     "metadata": {
      "needs_background": "light"
     },
     "output_type": "display_data"
    }
   ],
   "source": [
    "import scipy.stats as ss\n",
    "def cramers_corrected_stat(confusion_matrix):\n",
    "    \"\"\" calculate Cramers V statistic for categorical-categorical association\n",
    "    \"\"\"\n",
    "    chi2 = ss.chi2_contingency(confusion_matrix)[0]\n",
    "    n = confusion_matrix.sum().sum()\n",
    "    phi2 = chi2/n\n",
    "    r,k = confusion_matrix.shape\n",
    "    phi2corr = max(0, phi2 - ((k-1)*(r-1))/(n-1))    \n",
    "    rcorr = r - ((r-1)**2)/(n-1)\n",
    "    kcorr = k - ((k-1)**2)/(n-1)\n",
    "    return np.sqrt(phi2corr / min( (kcorr-1), (rcorr-1)))\n",
    "\n",
    "\n",
    "cols = [\"Mode of Transport\", \"Fork Type\", \"External\", \"Refrigerated\", \"Damage\"]\n",
    "corrM = np.zeros((len(cols),len(cols)))\n",
    "\n",
    "for col1, col2 in itertools.combinations(cols, 2):\n",
    "    idx1, idx2 = cols.index(col1), cols.index(col2)\n",
    "    corrM[idx1, idx2] = cramers_corrected_stat(pd.crosstab(df[col1], df[col2]))\n",
    "    corrM[idx2, idx1] = corrM[idx1, idx2]\n",
    "\n",
    "corr = pd.DataFrame(corrM, index=cols, columns=cols)\n",
    "fig, ax = plt.subplots(figsize=(12, 10))\n",
    "ax = sns.heatmap(corr, annot=True, ax=ax); ax.set_title(\"Cramer V Correlation between Variables\");"
   ]
  },
  {
   "cell_type": "markdown",
   "id": "aa2681f7",
   "metadata": {},
   "source": [
    "# Visualizing the relation between Predictors and Predictand(Target Variable)"
   ]
  },
  {
   "cell_type": "code",
   "execution_count": 42,
   "id": "b24d7c2b",
   "metadata": {},
   "outputs": [
    {
     "data": {
      "text/plain": [
       "<seaborn.axisgrid.FacetGrid at 0x264933ddbb0>"
      ]
     },
     "execution_count": 42,
     "metadata": {},
     "output_type": "execute_result"
    },
    {
     "data": {
      "text/plain": [
       "<Figure size 864x720 with 0 Axes>"
      ]
     },
     "metadata": {},
     "output_type": "display_data"
    },
    {
     "data": {
      "image/png": "[encoded data removed]",
      "text/plain": [
       "<Figure size 410.125x360 with 1 Axes>"
      ]
     },
     "metadata": {
      "needs_background": "light"
     },
     "output_type": "display_data"
    }
   ],
   "source": [
    "plt.figure(figsize=(12, 10))\n",
    "sns.catplot(x=\"Temperature\", y=\"Fork Type\", hue=\"Damage\", kind=\"box\", data=df)"
   ]
  },
  {
   "cell_type": "code",
   "execution_count": 43,
   "id": "48be5865",
   "metadata": {},
   "outputs": [
    {
     "data": {
      "text/plain": [
       "<seaborn.axisgrid.FacetGrid at 0x264abc3b550>"
      ]
     },
     "execution_count": 43,
     "metadata": {},
     "output_type": "execute_result"
    },
    {
     "data": {
      "image/png": "[encoded data removed]",
      "text/plain": [
       "<Figure size 457.625x360 with 1 Axes>"
      ]
     },
     "metadata": {
      "needs_background": "light"
     },
     "output_type": "display_data"
    }
   ],
   "source": [
    "sns.catplot(x=\"Damage\", y=\"Temperature\", hue=\"Mode of Transport\", kind=\"bar\", data=df)"
   ]
  },
  {
   "cell_type": "code",
   "execution_count": 44,
   "id": "11b9586b",
   "metadata": {},
   "outputs": [
    {
     "data": {
      "text/plain": [
       "<seaborn.axisgrid.FacetGrid at 0x26498b2c6a0>"
      ]
     },
     "execution_count": 44,
     "metadata": {},
     "output_type": "execute_result"
    },
    {
     "data": {
      "image/png": "[encoded data removed]",
      "text/plain": [
       "<Figure size 360x360 with 1 Axes>"
      ]
     },
     "metadata": {
      "needs_background": "light"
     },
     "output_type": "display_data"
    }
   ],
   "source": [
    "sns.catplot(x=\"Mode of Transport\", kind=\"count\", palette=\"ch:.95\", data=df)"
   ]
  },
  {
   "cell_type": "code",
   "execution_count": 45,
   "id": "000731e6",
   "metadata": {},
   "outputs": [
    {
     "data": {
      "text/plain": [
       "<seaborn.axisgrid.FacetGrid at 0x26498c03370>"
      ]
     },
     "execution_count": 45,
     "metadata": {},
     "output_type": "execute_result"
    },
    {
     "data": {
      "image/png": "[encoded data removed]",
      "text/plain": [
       "<Figure size 512.625x360 with 1 Axes>"
      ]
     },
     "metadata": {
      "needs_background": "light"
     },
     "output_type": "display_data"
    }
   ],
   "source": [
    "sns.catplot(y=\"Mode of Transport\", hue=\"Fork Type\", kind=\"count\",\n",
    "            palette=\"pastel\", edgecolor=\".8\",\n",
    "            data=df)"
   ]
  },
  {
   "cell_type": "code",
   "execution_count": 46,
   "id": "1f20a090",
   "metadata": {},
   "outputs": [
    {
     "data": {
      "text/plain": [
       "<seaborn.axisgrid.FacetGrid at 0x264a96b8fd0>"
      ]
     },
     "execution_count": 46,
     "metadata": {},
     "output_type": "execute_result"
    },
    {
     "data": {
      "image/png": "[encoded data removed]",
      "text/plain": [
       "<Figure size 432x864 with 8 Axes>"
      ]
     },
     "metadata": {
      "needs_background": "light"
     },
     "output_type": "display_data"
    }
   ],
   "source": [
    "g = sns.catplot(x=\"Temperature\", y=\"Damage\", row=\"Fork Type\",\n",
    "                kind=\"box\", orient=\"h\", height=1.5, aspect=4,\n",
    "                data=df.query(\"Temperature > 28\"))\n",
    "g.set(xscale=\"log\")"
   ]
  },
  {
   "cell_type": "code",
   "execution_count": 48,
   "id": "8ff57b9c",
   "metadata": {},
   "outputs": [
    {
     "name": "stdout",
     "output_type": "stream",
     "text": [
      "<class 'pandas.core.frame.DataFrame'>\n",
      "RangeIndex: 20001 entries, 0 to 20000\n",
      "Data columns (total 9 columns):\n",
      " #   Column             Non-Null Count  Dtype  \n",
      "---  ------             --------------  -----  \n",
      " 0   container id       20001 non-null  object \n",
      " 1   date               20001 non-null  object \n",
      " 2   city               20001 non-null  object \n",
      " 3   Temperature        20001 non-null  float64\n",
      " 4   Mode of Transport  20001 non-null  object \n",
      " 5   Fork Type          20001 non-null  object \n",
      " 6   External           20001 non-null  object \n",
      " 7   Refrigerated       20001 non-null  object \n",
      " 8   Damage             20001 non-null  object \n",
      "dtypes: float64(1), object(8)\n",
      "memory usage: 1.4+ MB\n"
     ]
    }
   ],
   "source": [
    "df.info()"
   ]
  },
  {
   "cell_type": "markdown",
   "id": "864a2e29",
   "metadata": {},
   "source": [
    "# Data Preparation by using Label encoding"
   ]
  },
  {
   "cell_type": "code",
   "execution_count": 49,
   "id": "51d8a936",
   "metadata": {},
   "outputs": [
    {
     "name": "stdout",
     "output_type": "stream",
     "text": [
      "      container id        date        city  Temperature  Mode of Transport  \\\n",
      "0       VPYR190662  23-09-2010      Purnea        30.00                  1   \n",
      "1       OAKF997890  15-10-2015      Joliet        12.00                  1   \n",
      "2       TAUV405783  11-10-2008       Taber        37.00                  0   \n",
      "3       FNBW586962  18-09-2022      Shimla         5.00                  1   \n",
      "4       CWGP237272  06-11-2018       Miami        38.00                  0   \n",
      "...            ...         ...         ...          ...                ...   \n",
      "19996   AJOE772324  07-01-2009  Trivandrum        25.00                  1   \n",
      "19997   XJEK284268  22-02-2017        Gary        39.00                  2   \n",
      "19998   UMYR952437  18-03-2016    Haridwar        45.00                  0   \n",
      "19999   DIBM828271  23-05-2017       Provo        44.00                  1   \n",
      "20000   UACU518232  18-12-2021   New Delhi        12.09                  0   \n",
      "\n",
      "       Fork Type  External  Refrigerated Damage  \n",
      "0              1         0             0      0  \n",
      "1              6         1             0      0  \n",
      "2              2         1             1      0  \n",
      "3              2         0             0      0  \n",
      "4              3         1             0      1  \n",
      "...          ...       ...           ...    ...  \n",
      "19996          6         1             1      0  \n",
      "19997          5         1             1      0  \n",
      "19998          3         1             0      1  \n",
      "19999          0         1             0      1  \n",
      "20000          2         1             0      1  \n",
      "\n",
      "[20001 rows x 9 columns]\n"
     ]
    }
   ],
   "source": [
    "from sklearn import preprocessing\n",
    "le = preprocessing.LabelEncoder()\n",
    "\n",
    "# columns to select for encoding\n",
    "selected_col = ['Mode of Transport','Fork Type', 'External', 'Refrigerated']\n",
    "le.fit(df[selected_col].values.flatten())\n",
    "\n",
    "df[selected_col] = df[selected_col].apply(le.fit_transform)\n",
    "print(df)"
   ]
  },
  {
   "cell_type": "code",
   "execution_count": 50,
   "id": "c6f0a3ff",
   "metadata": {},
   "outputs": [
    {
     "data": {
      "text/html": [
       "<div>\n",
       "<style scoped>\n",
       "    .dataframe tbody tr th:only-of-type {\n",
       "        vertical-align: middle;\n",
       "    }\n",
       "\n",
       "    .dataframe tbody tr th {\n",
       "        vertical-align: top;\n",
       "    }\n",
       "\n",
       "    .dataframe thead th {\n",
       "        text-align: right;\n",
       "    }\n",
       "</style>\n",
       "<table border=\"1\" class=\"dataframe\">\n",
       "  <thead>\n",
       "    <tr style=\"text-align: right;\">\n",
       "      <th></th>\n",
       "      <th>container id</th>\n",
       "      <th>date</th>\n",
       "      <th>city</th>\n",
       "      <th>Temperature</th>\n",
       "      <th>Mode of Transport</th>\n",
       "      <th>Fork Type</th>\n",
       "      <th>External</th>\n",
       "      <th>Refrigerated</th>\n",
       "      <th>Damage</th>\n",
       "    </tr>\n",
       "  </thead>\n",
       "  <tbody>\n",
       "    <tr>\n",
       "      <th>0</th>\n",
       "      <td>VPYR190662</td>\n",
       "      <td>23-09-2010</td>\n",
       "      <td>Purnea</td>\n",
       "      <td>30.00</td>\n",
       "      <td>1</td>\n",
       "      <td>1</td>\n",
       "      <td>0</td>\n",
       "      <td>0</td>\n",
       "      <td>0</td>\n",
       "    </tr>\n",
       "    <tr>\n",
       "      <th>1</th>\n",
       "      <td>OAKF997890</td>\n",
       "      <td>15-10-2015</td>\n",
       "      <td>Joliet</td>\n",
       "      <td>12.00</td>\n",
       "      <td>1</td>\n",
       "      <td>6</td>\n",
       "      <td>1</td>\n",
       "      <td>0</td>\n",
       "      <td>0</td>\n",
       "    </tr>\n",
       "    <tr>\n",
       "      <th>2</th>\n",
       "      <td>TAUV405783</td>\n",
       "      <td>11-10-2008</td>\n",
       "      <td>Taber</td>\n",
       "      <td>37.00</td>\n",
       "      <td>0</td>\n",
       "      <td>2</td>\n",
       "      <td>1</td>\n",
       "      <td>1</td>\n",
       "      <td>0</td>\n",
       "    </tr>\n",
       "    <tr>\n",
       "      <th>3</th>\n",
       "      <td>FNBW586962</td>\n",
       "      <td>18-09-2022</td>\n",
       "      <td>Shimla</td>\n",
       "      <td>5.00</td>\n",
       "      <td>1</td>\n",
       "      <td>2</td>\n",
       "      <td>0</td>\n",
       "      <td>0</td>\n",
       "      <td>0</td>\n",
       "    </tr>\n",
       "    <tr>\n",
       "      <th>4</th>\n",
       "      <td>CWGP237272</td>\n",
       "      <td>06-11-2018</td>\n",
       "      <td>Miami</td>\n",
       "      <td>38.00</td>\n",
       "      <td>0</td>\n",
       "      <td>3</td>\n",
       "      <td>1</td>\n",
       "      <td>0</td>\n",
       "      <td>1</td>\n",
       "    </tr>\n",
       "    <tr>\n",
       "      <th>...</th>\n",
       "      <td>...</td>\n",
       "      <td>...</td>\n",
       "      <td>...</td>\n",
       "      <td>...</td>\n",
       "      <td>...</td>\n",
       "      <td>...</td>\n",
       "      <td>...</td>\n",
       "      <td>...</td>\n",
       "      <td>...</td>\n",
       "    </tr>\n",
       "    <tr>\n",
       "      <th>19996</th>\n",
       "      <td>AJOE772324</td>\n",
       "      <td>07-01-2009</td>\n",
       "      <td>Trivandrum</td>\n",
       "      <td>25.00</td>\n",
       "      <td>1</td>\n",
       "      <td>6</td>\n",
       "      <td>1</td>\n",
       "      <td>1</td>\n",
       "      <td>0</td>\n",
       "    </tr>\n",
       "    <tr>\n",
       "      <th>19997</th>\n",
       "      <td>XJEK284268</td>\n",
       "      <td>22-02-2017</td>\n",
       "      <td>Gary</td>\n",
       "      <td>39.00</td>\n",
       "      <td>2</td>\n",
       "      <td>5</td>\n",
       "      <td>1</td>\n",
       "      <td>1</td>\n",
       "      <td>0</td>\n",
       "    </tr>\n",
       "    <tr>\n",
       "      <th>19998</th>\n",
       "      <td>UMYR952437</td>\n",
       "      <td>18-03-2016</td>\n",
       "      <td>Haridwar</td>\n",
       "      <td>45.00</td>\n",
       "      <td>0</td>\n",
       "      <td>3</td>\n",
       "      <td>1</td>\n",
       "      <td>0</td>\n",
       "      <td>1</td>\n",
       "    </tr>\n",
       "    <tr>\n",
       "      <th>19999</th>\n",
       "      <td>DIBM828271</td>\n",
       "      <td>23-05-2017</td>\n",
       "      <td>Provo</td>\n",
       "      <td>44.00</td>\n",
       "      <td>1</td>\n",
       "      <td>0</td>\n",
       "      <td>1</td>\n",
       "      <td>0</td>\n",
       "      <td>1</td>\n",
       "    </tr>\n",
       "    <tr>\n",
       "      <th>20000</th>\n",
       "      <td>UACU518232</td>\n",
       "      <td>18-12-2021</td>\n",
       "      <td>New Delhi</td>\n",
       "      <td>12.09</td>\n",
       "      <td>0</td>\n",
       "      <td>2</td>\n",
       "      <td>1</td>\n",
       "      <td>0</td>\n",
       "      <td>1</td>\n",
       "    </tr>\n",
       "  </tbody>\n",
       "</table>\n",
       "<p>20001 rows × 9 columns</p>\n",
       "</div>"
      ],
      "text/plain": [
       "      container id        date        city  Temperature  Mode of Transport  \\\n",
       "0       VPYR190662  23-09-2010      Purnea        30.00                  1   \n",
       "1       OAKF997890  15-10-2015      Joliet        12.00                  1   \n",
       "2       TAUV405783  11-10-2008       Taber        37.00                  0   \n",
       "3       FNBW586962  18-09-2022      Shimla         5.00                  1   \n",
       "4       CWGP237272  06-11-2018       Miami        38.00                  0   \n",
       "...            ...         ...         ...          ...                ...   \n",
       "19996   AJOE772324  07-01-2009  Trivandrum        25.00                  1   \n",
       "19997   XJEK284268  22-02-2017        Gary        39.00                  2   \n",
       "19998   UMYR952437  18-03-2016    Haridwar        45.00                  0   \n",
       "19999   DIBM828271  23-05-2017       Provo        44.00                  1   \n",
       "20000   UACU518232  18-12-2021   New Delhi        12.09                  0   \n",
       "\n",
       "       Fork Type  External  Refrigerated Damage  \n",
       "0              1         0             0      0  \n",
       "1              6         1             0      0  \n",
       "2              2         1             1      0  \n",
       "3              2         0             0      0  \n",
       "4              3         1             0      1  \n",
       "...          ...       ...           ...    ...  \n",
       "19996          6         1             1      0  \n",
       "19997          5         1             1      0  \n",
       "19998          3         1             0      1  \n",
       "19999          0         1             0      1  \n",
       "20000          2         1             0      1  \n",
       "\n",
       "[20001 rows x 9 columns]"
      ]
     },
     "execution_count": 50,
     "metadata": {},
     "output_type": "execute_result"
    }
   ],
   "source": [
    "df"
   ]
  },
  {
   "cell_type": "markdown",
   "id": "613c4682",
   "metadata": {},
   "source": [
    "# Data Modelling \n",
    "# Decision Tree Classifier "
   ]
  },
  {
   "cell_type": "code",
   "execution_count": 51,
   "id": "ef684e68",
   "metadata": {},
   "outputs": [],
   "source": [
    "X = df.iloc[:,7].values \n",
    "y = df.iloc[:,8].values\n",
    "y=y.astype('int')"
   ]
  },
  {
   "cell_type": "code",
   "execution_count": 52,
   "id": "7b9baa54",
   "metadata": {},
   "outputs": [],
   "source": [
    "from sklearn.model_selection import train_test_split\n",
    "X_train, X_test, y_train, y_test = train_test_split(X, y, test_size = 0.20, random_state = 0)"
   ]
  },
  {
   "cell_type": "code",
   "execution_count": 53,
   "id": "63a3e4c2",
   "metadata": {},
   "outputs": [
    {
     "data": {
      "text/plain": [
       "array([[0],\n",
       "       [1],\n",
       "       [0],\n",
       "       ...,\n",
       "       [1],\n",
       "       [0],\n",
       "       [1]])"
      ]
     },
     "execution_count": 53,
     "metadata": {},
     "output_type": "execute_result"
    }
   ],
   "source": [
    "X_train.reshape(-1,1)"
   ]
  },
  {
   "cell_type": "code",
   "execution_count": 54,
   "id": "26eaba33",
   "metadata": {},
   "outputs": [
    {
     "data": {
      "text/plain": [
       "numpy.ndarray"
      ]
     },
     "execution_count": 54,
     "metadata": {},
     "output_type": "execute_result"
    }
   ],
   "source": [
    "type(X_train.reshape(-1,1))"
   ]
  },
  {
   "cell_type": "code",
   "execution_count": 55,
   "id": "0fde40fd",
   "metadata": {},
   "outputs": [
    {
     "data": {
      "text/plain": [
       "DecisionTreeClassifier()"
      ]
     },
     "execution_count": 55,
     "metadata": {},
     "output_type": "execute_result"
    }
   ],
   "source": [
    "from sklearn.tree import DecisionTreeClassifier\n",
    "classifier = DecisionTreeClassifier()\n",
    "classifier.fit(X_train.reshape(-1,1), y_train)"
   ]
  },
  {
   "cell_type": "code",
   "execution_count": 56,
   "id": "27cb15fd",
   "metadata": {},
   "outputs": [],
   "source": [
    "pred = classifier.predict(X_test.reshape(-1,1))"
   ]
  },
  {
   "cell_type": "code",
   "execution_count": 57,
   "id": "1f4b8d0b",
   "metadata": {},
   "outputs": [
    {
     "data": {
      "text/plain": [
       "88.87778055486129"
      ]
     },
     "execution_count": 57,
     "metadata": {},
     "output_type": "execute_result"
    }
   ],
   "source": [
    "(y_test == pred).mean()*100"
   ]
  },
  {
   "cell_type": "markdown",
   "id": "1d66a582",
   "metadata": {},
   "source": [
    "# Plotting the Decision Tree "
   ]
  },
  {
   "cell_type": "code",
   "execution_count": 58,
   "id": "66e2f568",
   "metadata": {},
   "outputs": [],
   "source": [
    "from sklearn import tree"
   ]
  },
  {
   "cell_type": "code",
   "execution_count": 59,
   "id": "66a9cc78",
   "metadata": {},
   "outputs": [],
   "source": [
    "clf = tree.DecisionTreeClassifier()\n",
    "clf = clf.fit(X_test.reshape(-1,1), y_test)"
   ]
  },
  {
   "cell_type": "code",
   "execution_count": 60,
   "id": "9ce3cb76",
   "metadata": {},
   "outputs": [
    {
     "data": {
      "text/plain": [
       "[Text(167.4, 163.07999999999998, 'X[0] <= 0.5\\ngini = 0.198\\nsamples = 4001\\nvalue = [3556, 445]'),\n",
       " Text(83.7, 54.360000000000014, 'gini = 0.341\\nsamples = 2039\\nvalue = [1594, 445]'),\n",
       " Text(251.10000000000002, 54.360000000000014, 'gini = 0.0\\nsamples = 1962\\nvalue = [1962, 0]')]"
      ]
     },
     "execution_count": 60,
     "metadata": {},
     "output_type": "execute_result"
    },
    {
     "data": {
      "image/png": "[encoded data removed]",
      "text/plain": [
       "<Figure size 432x288 with 1 Axes>"
      ]
     },
     "metadata": {
      "needs_background": "light"
     },
     "output_type": "display_data"
    }
   ],
   "source": [
    "tree.plot_tree(clf)"
   ]
  },
  {
   "cell_type": "markdown",
   "id": "b8fc1837-1c6f-438b-b709-b990d118b658",
   "metadata": {},
   "source": [
    "# Applying Support Vector Classifier "
   ]
  },
  {
   "cell_type": "code",
   "execution_count": 140,
   "id": "7852041d-7615-4cb1-9d07-5593ae3502cf",
   "metadata": {},
   "outputs": [],
   "source": [
    "X = df[['Refrigerated']].values\n",
    "y = df['Damage'].values\n",
    "y=y.astype('int')"
   ]
  },
  {
   "cell_type": "code",
   "execution_count": 141,
   "id": "06d9a21a-bcb4-4134-8429-81e876a10328",
   "metadata": {},
   "outputs": [],
   "source": [
    "from sklearn.model_selection import train_test_split\n",
    "X_train, X_test, y_train, y_test = train_test_split(X, y, test_size = 0.20, random_state = 0)"
   ]
  },
  {
   "cell_type": "code",
   "execution_count": 196,
   "id": "6c48e3b3-e575-4acb-a3e6-6f55a84dbb76",
   "metadata": {},
   "outputs": [],
   "source": [
    "from sklearn import svm\n",
    "import warnings\n",
    "warnings.filterwarnings(\"ignore\")\n",
    "#Create a svm Classifier\n",
    "\n",
    "clf = svm.SVC(kernel='linear', probability=True) # Linear Kernel\n",
    "\n",
    "#Train the model using the training sets\n",
    "clf.fit(X_train, y_train)\n",
    "\n",
    "#Predict the response for test dataset\n",
    "y_pred = clf.predict(X_test)"
   ]
  },
  {
   "cell_type": "code",
   "execution_count": 199,
   "id": "e8e2d190-0bad-430c-8e5e-065a36a9c99b",
   "metadata": {},
   "outputs": [
    {
     "name": "stdout",
     "output_type": "stream",
     "text": [
      "\n",
      " Clasification report:\n",
      "               precision    recall  f1-score   support\n",
      "\n",
      "           0       0.89      1.00      0.94      3556\n",
      "           1       0.00      0.00      0.00       445\n",
      "\n",
      "    accuracy                           0.89      4001\n",
      "   macro avg       0.44      0.50      0.47      4001\n",
      "weighted avg       0.79      0.89      0.84      4001\n",
      "\n"
     ]
    }
   ],
   "source": [
    "from sklearn.metrics import  classification_report\n",
    "print ('\\n Clasification report:\\n', classification_report(y_test,y_pred))"
   ]
  }
 ],
 "metadata": {
  "kernelspec": {
   "display_name": "Python 3",
   "language": "python",
   "name": "python3"
  },
  "language_info": {
   "codemirror_mode": {
    "name": "ipython",
    "version": 3
   },
   "file_extension": ".py",
   "mimetype": "text/x-python",
   "name": "python",
   "nbconvert_exporter": "python",
   "pygments_lexer": "ipython3",
   "version": "3.8.8"
  }
 },
 "nbformat": 4,
 "nbformat_minor": 5
}
